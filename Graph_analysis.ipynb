{
  "nbformat": 4,
  "nbformat_minor": 0,
  "metadata": {
    "colab": {
      "name": "Graph_conversion.ipynb",
      "provenance": [],
      "collapsed_sections": []
    },
    "kernelspec": {
      "name": "python3",
      "display_name": "Python 3"
    }
  },
  "cells": [
    {
      "cell_type": "code",
      "metadata": {
        "id": "lORUPekSHIW-"
      },
      "source": [
        "import numpy as np\n",
        "import pandas as pd\n",
        "import matplotlib.pyplot as plt\n",
        "from networkx.utils import open_file, make_str\n",
        "import networkx as nx\n",
        "import math\n",
        "from networkx import path_graph, random_layout\n",
        "from pylab import rcParams\n",
        "rcParams['figure.figsize'] = 7,5"
      ],
      "execution_count": null,
      "outputs": []
    },
    {
      "cell_type": "code",
      "metadata": {
        "id": "tUxeyERz9Lzg"
      },
      "source": [
        "edges = pd.read_csv('/content/drive/My Drive/Colab Notebooks/elliptic_txs_edgelist.csv')\n",
        "classes = pd.read_csv('/content/drive/MyDrive/Colab Notebooks/elliptic_txs_classes.csv')\n",
        "features = pd.read_csv('/content/drive/MyDrive/Colab Notebooks/elliptic_txs_features.csv')"
      ],
      "execution_count": null,
      "outputs": []
    },
    {
      "cell_type": "code",
      "metadata": {
        "id": "f2-62Uh0iZoh"
      },
      "source": [
        "classes = classes.replace(\"unknown\",\"3\")\n",
        "classes[\"Time step\"]=features[[\"1\"]]\n",
        "classes=classes.loc[classes['class'].isin([\"1\",\"2\"])]\n",
        "classes[\"class\"].replace({\"1\": 1, \"2\": 2}, inplace=True)"
      ],
      "execution_count": null,
      "outputs": []
    },
    {
      "cell_type": "code",
      "metadata": {
        "id": "tBQLX-YFBWK2"
      },
      "source": [
        "X = edges\n",
        "X = X.to_numpy()"
      ],
      "execution_count": null,
      "outputs": []
    },
    {
      "cell_type": "code",
      "metadata": {
        "id": "_sFRZxO1hqkK"
      },
      "source": [
        "n, m = X.shape\n",
        "# n = n*0.0001\n",
        "n = math.ceil(n)\n",
        "f = 2\n",
        "X = X[:n,:f]"
      ],
      "execution_count": null,
      "outputs": []
    },
    {
      "cell_type": "code",
      "metadata": {
        "id": "ALISdWJA9nYg",
        "colab": {
          "base_uri": "https://localhost:8080/"
        },
        "outputId": "97115061-cd3f-4be1-d55b-d198c416ec0d"
      },
      "source": [
        "#Convert edgelist to networkx\n",
        "G = nx.DiGraph()\n",
        "G.add_edges_from(X)\n",
        "print(nx.info(G))"
      ],
      "execution_count": null,
      "outputs": [
        {
          "output_type": "stream",
          "text": [
            "Name: \n",
            "Type: DiGraph\n",
            "Number of nodes: 203769\n",
            "Number of edges: 234355\n",
            "Average in degree:   1.1501\n",
            "Average out degree:   1.1501\n"
          ],
          "name": "stdout"
        }
      ]
    },
    {
      "cell_type": "code",
      "metadata": {
        "id": "mwFf8Sn-mLHW"
      },
      "source": [
        "groups = classes.groupby([\"Time step\"])"
      ],
      "execution_count": null,
      "outputs": []
    },
    {
      "cell_type": "code",
      "metadata": {
        "id": "x2fPWnc7oCS7"
      },
      "source": [
        "selected_nodes = groups.get_group(1)"
      ],
      "execution_count": null,
      "outputs": []
    },
    {
      "cell_type": "code",
      "metadata": {
        "colab": {
          "base_uri": "https://localhost:8080/"
        },
        "id": "KcNFhUEbmmFo",
        "outputId": "81bd4026-937d-496b-9ac5-188227719e54"
      },
      "source": [
        "classes.dtypes"
      ],
      "execution_count": null,
      "outputs": [
        {
          "output_type": "execute_result",
          "data": {
            "text/plain": [
              "txId           int64\n",
              "class          int64\n",
              "Time step    float64\n",
              "dtype: object"
            ]
          },
          "metadata": {
            "tags": []
          },
          "execution_count": 9
        }
      ]
    },
    {
      "cell_type": "code",
      "metadata": {
        "colab": {
          "base_uri": "https://localhost:8080/",
          "height": 487
        },
        "id": "zj9jQw5R9guW",
        "outputId": "a82f7fda-c01d-4c2c-e1ac-4b496e8d5d39"
      },
      "source": [
        "#Plot groups of illicit transactions in each timestep\n",
        "ilicit_ids = classes.loc[(classes['Time step'] == 2)  & (classes['class'] == 1) , 'txId']\n",
        "ilicit_edges = edges.loc[edges['txId1'].isin(ilicit_ids) ]\n",
        "print(\"ilicit_edges \",ilicit_edges.shape)\n",
        "print(\"ilicit_ids \",ilicit_ids.shape)\n",
        "graph = nx.from_pandas_edgelist(ilicit_edges,  source = 'txId1', target = 'txId2', \n",
        "                                 create_using = nx.DiGraph())\n",
        "print(nx.info(graph))\n",
        "pos = nx.spring_layout(graph)\n",
        "nx.draw(graph, with_labels=False,pos=pos,node_size=100)\n",
        "plt.figure(3,figsize=(30,30))\n",
        "plt.show()"
      ],
      "execution_count": null,
      "outputs": [
        {
          "output_type": "stream",
          "text": [
            "ilicit_edges  (13, 2)\n",
            "ilicit_ids  (18,)\n",
            "Name: \n",
            "Type: DiGraph\n",
            "Number of nodes: 22\n",
            "Number of edges: 13\n",
            "Average in degree:   0.5909\n",
            "Average out degree:   0.5909\n"
          ],
          "name": "stdout"
        },
        {
          "output_type": "display_data",
          "data": {
            "image/png": "[encoded data removed]",
            "text/plain": [
              "<Figure size 432x288 with 1 Axes>"
            ]
          },
          "metadata": {
            "tags": []
          }
        },
        {
          "output_type": "display_data",
          "data": {
            "text/plain": [
              "<Figure size 2160x2160 with 0 Axes>"
            ]
          },
          "metadata": {
            "tags": []
          }
        }
      ]
    },
    {
      "cell_type": "code",
      "metadata": {
        "id": "wGdAHmv-0kRG"
      },
      "source": [
        "H = G.subgraph(selected_nodes['txId'])\n",
        "# nx.draw_spectral(H,with_labels = False,node_size=3)\n",
        "plt.show()"
      ],
      "execution_count": null,
      "outputs": []
    },
    {
      "cell_type": "code",
      "metadata": {
        "id": "-1v4-fabOR37",
        "colab": {
          "base_uri": "https://localhost:8080/"
        },
        "outputId": "c089d52a-5268-46d7-e6ee-a1170a8ab91c"
      },
      "source": [
        "nodes = G.number_of_nodes()\n",
        "deg = sum(d for n, d in G.degree()) / float(nodes)\n",
        "print(\"Average Degree: \", deg)\n"
      ],
      "execution_count": null,
      "outputs": [
        {
          "output_type": "stream",
          "text": [
            "Average Degree:  2.3002026804862368\n"
          ],
          "name": "stdout"
        }
      ]
    },
    {
      "cell_type": "code",
      "metadata": {
        "id": "p02WF4XtCqPo"
      },
      "source": [
        "#plot Degree vs Number of Nodes\n",
        "def plot_def_dist(G):\n",
        "  all_degress = [v for k, v in G.degree()]\n",
        "  # print(all_degress)\n",
        "  unique_degrees = list(set(all_degress))\n",
        "  count_of_degrees = []\n",
        "  for i in unique_degrees:\n",
        "    x = all_degress.count(i)\n",
        "    count_of_degrees.append(x)\n",
        "  # print(unique_degrees)\n",
        "  plt.plot(unique_degrees, count_of_degrees,'bo')\n",
        "  plt.xlabel('Degree')\n",
        "  plt.ylabel('Number of Nodes')\n",
        "  plt.show()"
      ],
      "execution_count": null,
      "outputs": []
    },
    {
      "cell_type": "code",
      "metadata": {
        "id": "A53ZU_QEESJ-",
        "colab": {
          "base_uri": "https://localhost:8080/",
          "height": 279
        },
        "outputId": "7dc7d8c4-419b-498b-a781-b92c4fcd5708"
      },
      "source": [
        "plot_def_dist(G)"
      ],
      "execution_count": null,
      "outputs": [
        {
          "output_type": "display_data",
          "data": {
            "image/png": "[encoded data removed]",
            "text/plain": [
              "<Figure size 432x288 with 1 Axes>"
            ]
          },
          "metadata": {
            "tags": [],
            "needs_background": "light"
          }
        }
      ]
    },
    {
      "cell_type": "code",
      "metadata": {
        "id": "KpDx5i8gFJdX",
        "colab": {
          "base_uri": "https://localhost:8080/"
        },
        "outputId": "4b91541a-de82-4e4b-cace-9352286b3e0c"
      },
      "source": [
        "nx.density(G)"
      ],
      "execution_count": null,
      "outputs": [
        {
          "output_type": "execute_result",
          "data": {
            "text/plain": [
              "5.644170528459417e-06"
            ]
          },
          "metadata": {
            "tags": []
          },
          "execution_count": 15
        }
      ]
    },
    {
      "cell_type": "code",
      "metadata": {
        "id": "6zVSIr-6I_JM",
        "colab": {
          "base_uri": "https://localhost:8080/"
        },
        "outputId": "64d64d39-13f0-46c7-c5a7-6432194b8e93"
      },
      "source": [
        "nx.average_clustering(G) "
      ],
      "execution_count": null,
      "outputs": [
        {
          "output_type": "execute_result",
          "data": {
            "text/plain": [
              "0.006881095362122399"
            ]
          },
          "metadata": {
            "tags": []
          },
          "execution_count": 16
        }
      ]
    }
  ]
}